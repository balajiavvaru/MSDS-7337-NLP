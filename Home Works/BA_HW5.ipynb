{
 "cells": [
  {
   "cell_type": "code",
   "execution_count": 1,
   "id": "3fefe5c6",
   "metadata": {},
   "outputs": [],
   "source": [
    "#import required libraries\n",
    "import requests\n",
    "from bs4 import BeautifulSoup\n",
    "import nltk\n",
    "from nltk.tokenize import word_tokenize \n",
    "import numpy as np\n",
    "import re\n",
    "import pandas as pd\n",
    "import itertools"
   ]
  },
  {
   "cell_type": "markdown",
   "id": "2094117f",
   "metadata": {},
   "source": [
    "#### 1. Compile a list of static links (permalinks) to individual user movie reviews from one particular website. This will be your working dataset for this assignment, as well as for assignments 7 and 8.  "
   ]
  },
  {
   "cell_type": "markdown",
   "id": "f397e55a",
   "metadata": {},
   "source": [
    "a.\tIt does not matter if you use a crawler or if you manually collect the links, but you will need at least 100 movie review links. Note that, as of this writing, the robots.txt file of IMDB.com allows the crawling of user reviews.\n",
    "\n",
    "b.\tEach link should be to a web page that has only one user review of only one movie, e.g., the user review permalinks on the IMDB site.\n",
    "\n",
    "c.\tChoose reviews of movies that are all in the same genre, e.g., sci-fi, mystery, romance, superhero, etc.  \n",
    "\n",
    "d.\tMake sure your collection includes reviews of several movies in your chosen genre and that it includes a mix of negative and positive reviews."
   ]
  },
  {
   "cell_type": "code",
   "execution_count": 2,
   "id": "edb48c04",
   "metadata": {},
   "outputs": [
    {
     "name": "stdout",
     "output_type": "stream",
     "text": [
      "There are a total of 100 movie user reviews\n",
      "Displaying first 5 user reviews links\n"
     ]
    },
    {
     "data": {
      "text/plain": [
       "['/title/tt0468569/',\n",
       " '/title/tt1375666/',\n",
       " '/title/tt6751668/',\n",
       " '/title/tt0114369/',\n",
       " '/title/tt0102926/']"
      ]
     },
     "execution_count": 2,
     "metadata": {},
     "output_type": "execute_result"
    }
   ],
   "source": [
    "#IMDB website URL\n",
    "base_url = \"https://www.imdb.com\"\n",
    "\n",
    "# API call to select:100 feature films which are atleast rated 4 with 50,000 votes in thriller genre sorted by rating\n",
    "url = '''https://www.imdb.com/search/title/?title_type=feature&user_rating=4.0,10.0\n",
    "&num_votes=50000,&genres=thriller&view=simple&sort=user_rating,desc&count=100'''\n",
    "\n",
    "# Convert IMDB url to a BeautifulSoup object\n",
    "response = requests.get(url)\n",
    "movies_soup = BeautifulSoup(response.text, 'html.parser')\n",
    "\n",
    "# get movie tags \n",
    "movie_tags = movies_soup.find_all('a', attrs={'class': None})\n",
    "\n",
    "# filter the anchor-tags to get the titles of feature films\n",
    "movie_tags = [tag.attrs['href'] for tag in movie_tags \n",
    "                  if tag.attrs['href'].startswith('/title') & tag.attrs['href'].endswith('/')]\n",
    "\n",
    "# remove duplicate links\n",
    "movie_tags = list(dict.fromkeys(movie_tags))\n",
    "\n",
    "# Print out the number of reviews we have and show the first 5 items\n",
    "print(\"There are a total of \" + str(len(movie_tags)) + \" movie user reviews\")\n",
    "print(\"Displaying first 5 user reviews links\")\n",
    "movie_tags[:5]"
   ]
  },
  {
   "cell_type": "code",
   "execution_count": 3,
   "id": "66d9d8b1",
   "metadata": {},
   "outputs": [
    {
     "name": "stdout",
     "output_type": "stream",
     "text": [
      "There are a total of 100 movie user reviews\n",
      "Displaying first 5 user reviews full url\n"
     ]
    },
    {
     "data": {
      "text/plain": [
       "['https://www.imdb.com/title/tt0468569/reviews',\n",
       " 'https://www.imdb.com/title/tt1375666/reviews',\n",
       " 'https://www.imdb.com/title/tt6751668/reviews',\n",
       " 'https://www.imdb.com/title/tt0114369/reviews',\n",
       " 'https://www.imdb.com/title/tt0102926/reviews']"
      ]
     },
     "execution_count": 3,
     "metadata": {},
     "output_type": "execute_result"
    }
   ],
   "source": [
    "# build out the list of reviews\n",
    "review_links = [base_url + tag + 'reviews' for tag in movie_tags]\n",
    "\n",
    "print(\"There are a total of \" + str(len(review_links)) + \" movie user reviews\")\n",
    "print(\"Displaying first 5 user reviews full url\")\n",
    "review_links[:5]"
   ]
  },
  {
   "cell_type": "code",
   "execution_count": 4,
   "id": "a416a220",
   "metadata": {},
   "outputs": [],
   "source": [
    "# get a list of soup objects\n",
    "movie_soups = []\n",
    "for link in review_links:\n",
    "    response = requests.get(link)\n",
    "    soup = BeautifulSoup(response.text, 'html.parser')\n",
    "    movie_soups.append(soup)\n"
   ]
  },
  {
   "cell_type": "code",
   "execution_count": 5,
   "id": "a9fc23d8",
   "metadata": {},
   "outputs": [
    {
     "data": {
      "text/plain": [
       "['https://www.imdb.com/review/rw1945777/',\n",
       " 'https://www.imdb.com/review/rw5443093/',\n",
       " 'https://www.imdb.com/review/rw2365579/',\n",
       " 'https://www.imdb.com/review/rw2879376/',\n",
       " 'https://www.imdb.com/review/rw5204791/']"
      ]
     },
     "execution_count": 5,
     "metadata": {},
     "output_type": "execute_result"
    }
   ],
   "source": [
    "# get a list movie review soup objects\n",
    "movie_review_list = []\n",
    "for movie_soup in movie_soups:\n",
    "    # get a list of user ratings\n",
    "    user_review_ratings = [tag.previous_element for tag in \n",
    "                           movie_soup.find_all('span', attrs={'class': 'point-scale'})]\n",
    "    \n",
    "    # find the index of negative and positive review, least user rating is considered as negative review and highest user rating is considered as positive review\n",
    "    n_index = list(map(int, user_review_ratings)).index(min(list(map(int, user_review_ratings))))\n",
    "    p_index = list(map(int, user_review_ratings)).index(max(list(map(int, user_review_ratings))))\n",
    "    \n",
    "    # get the review tags\n",
    "    user_review_list = movie_soup.find_all('a', attrs={'class':'title'})\n",
    "    \n",
    "    # get the negative and positive review tags\n",
    "    n_review_tag = user_review_list[n_index]\n",
    "    p_review_tag = user_review_list[p_index]\n",
    "    \n",
    "    # return the negative and positive review link\n",
    "    n_review_link = base_url + n_review_tag['href']\n",
    "    p_review_link = base_url + p_review_tag['href']\n",
    "    \n",
    "    movie_review_list.append(n_review_link)\n",
    "    movie_review_list.append(p_review_link)\n",
    "\n",
    "movie_review_list[:5]"
   ]
  },
  {
   "cell_type": "markdown",
   "id": "8ff2304a",
   "metadata": {},
   "source": [
    "#### 2.\tExtract noun phrase (NP) chunks from your reviews using the following procedure:\n",
    "\n",
    "a.\tIn Python, use BeautifulSoup to grab the main review text from each link.  \n",
    "\n",
    "b.\tNext run each review text through a tokenizer, and then try to NP-chunk it with a shallow parser. \n",
    "\n",
    "c.\tYou probably will have too many unknown words, owing to proper names of characters, actors, and so on that are not in your working dictionary. Make sure the main names that are relevant to the movies in your collection of reviews are added to the working lexicon, and then run the NP chunker again.\n"
   ]
  },
  {
   "cell_type": "code",
   "execution_count": 6,
   "id": "f81a5711",
   "metadata": {},
   "outputs": [
    {
     "data": {
      "text/plain": [
       "[\"The first film in the re-imagining of the series was a big hit, but this sequel was a global success, especially with the superb performance by the star of Brokeback Mountain who tragically died from a (prescribed) drugs overdose shortly after filming had finished, from director Christopher Nolan (Memento, Insomnia). Basically a criminal terrorist and mastermind calling himself the Joker (posthumous Oscar, BAFTA and Golden Globe winning Heath Ledger) robs the bank run by the mob, and to take on the Mafia district attorney Harvey Dent (Aaron Eckhart) becomes the new face for justice and hope in Gotham City, with the help of Batman aka Bruce Wayne (Christian Bale) and Lieutenant James 'Jim' Gordon (Gary Oldman). Mob bosses Sal Maroni (Eric Roberts), Gambol (Michael Jai White) and the Chechen (Ritchie Coaster), who have had Chinese accountant Lau (Chin Han) hide their funds, are confronted by the Joker because he wants to kill the, but they all refuse to help, putting a bounty on him. The Joker kills Gambol, and his gang go under his control, and meanwhile Batman, with new technology supplied by Lucius Fox (Morgan Freeman), has found and returned Lau to Gotham to testify in a court case to help bring down the gangsters. The Joker puts his plan into action by threatening the city, if the Dark Knight does not reveal his true identity he will kill people, and soon enough he starts killing the people involved in the mob boss court cases, including Commissioner Loeb (The Fast Show's Colin McFarlane) and Judge Surrillo (Nydia Rodriguez Terracina), and Dent may be next. Dent is hidden, and Rachel (Maggie Gyllenhaal) who has been dating Dent is being looked after by Bruce's faithful butler Alfred Pennyworth (Sir Michael Caine), but the Joker appears to kill Gordon, who sacrifices himself to save the Mayor (Nestor Carbonell), and when Bruce plans to reveal his identity to the press Dent claims he is the Batman. This means that the district attorney is taken into protective custody, but the Joker catches up and tries to kill him, but Batman inside his armoured car and then on his motorcycle is on their tail, and Gordon who faked his death catches the criminals, and gets promoted to Commissioner. Batman demands to know from the clown prince of crime where Dent and Rachel are, as they have disappeared, and eventually, after some beating, he reveals that they are both in separate buildings full of explosives, Batman planned to find Rachel, but he instead gets to Dent, so Rachel is blown up and dies, while Dent is taken out, but petrol on half his face ignites when the explosion happens. Using documents, Wayne Enterprises accountant Mike Engel (Anthony Michael Hall) has concluded that Bruce Wayne is Batman, so he plans blackmail, and meanwhile the Joker has escaped prison and kills Lau and the Chechen, and he threatens to bomb a hospital if Reese isn't killed. While the accountant is rescued by Gordon, the Joker visits Dent in hospital, who has become scarred on half his face and donned the persona of Two-Face, he tells him that the mob is responsible for the death of Rachel and convinces him to get revenge, on a coin flip decision. Gotham General Hospital was blown up, while Two-Face manages to find and kill Maroni and two corrupt cops who helped kidnap Rachel, and the Joker has rigged two ships, one carrying civilian passengers and the other Arkham Asylum inmates, with explosives, and both sets of people have the trigger for the opposite ship, with the demand to blow up the other ship before midnight, or both be exploded. With the help of Fox and a computer as a citywide tracking device, they manage to find where the Joker is, in a building, where hostages are wearing clown masks to look like criminals to the SWAT, but they are saved, both ships refuse to blow up each other, and the Joker despite being caught boasts that he has won when Dent's rampage will be revealed. Gordon is lured to the building where Rachel died where his wife and children are being held hostage, and Dent is threatening their lives from the flip of his coin, and after being shot while wearing body armour Batman tackles Dent, causing him to fall from the top of the building to the ground, and saving Gordon's son. So that Dent will remain a symbol of hope for Gotham City, Batman wants to take responsibility for the deaths of the people Dent murdered, Gordon is upset but is forced to agree, so he orders a manhunt for Batman, while Alfred spares Bruce anymore heartache by burning a letter that Rachel wrote announcing her engagement to Harvey, and Fox sees the tracking computer self-destruct. Also starring Monique Gabriela Curnen as Ramirez, Ron Dean as Wuertz, Cillian Murphy as Scarecrow aka Dr. Jonathan Crane, William Fichtner as Bank Manager and The Fifth Element's Tommy 'Tiny' Lister as Tattooed Prisoner. Bale is still fantastic as the silly playboy and the rough and ready dark hero, Ledger is fascinating as the psychopathic and intelligent scar-faced villain (the licking of lips is a great psycho touch), Eckhart is alright as the slowly maddened political figure turned Two-Face, and the other cast members are good too. Just with the previous film the story is much more grown up and sophisticated compared to the previous incarnations, the make-up is good, and of course the explosions and special effects used create many more exciting chase and fight sequences, a cool and entertaining action fantasy. It won the Oscar for Best Sound Editing, and it was nominated for Best Art Direction, Best Cinematography, Best Editing, Best Makeup, Best Sound and Best Visual Effects, and it was nominated the BAFTAs for Best Cinematography, Best Costume Design, Best Editing, Best Make Up & Hair, Best Music for Hans Zimmer and James Newton Howard, Best Production Design, Best Sound and Best Special Visual Effects. Very good!\",\n",
       " 'After Batman Begins. Director Christopher Nolan went into a brooding nihilistic territory with The Dark Knight.It introduces The Joker (Heath Ledger) a psychopath laced with cynicism and determined to create chaos. It starts off with a punchy bank heist which The Joker uses to creatively eliminate his cohorts.In Gotham City, Batman (Christian Bale) is happy to see the new District Attorney Harvey Dent (Aaron Eckhart) to take on the villains. Dent is also seeing a lot of Rachel Dawes (Maggie Gyllenhaal.)However The Joker creates an alliance with the ring leaders of organised crime in the city and then takes the fight to Batman. Meanwhile Dent realises the extent of corruption in the local police with James Gordon (Gary Oldman) the only honest cop about.Nolan a fan of James Bond films has created several terrific action scenes. One set in Hong Kong is a more over the top homage to a Sean Connery circa Bond film.Nolan also deftly introduces a second villain in the form of Two Face. Much better here than Tommy Lee Jones unconvincingly camping it up with weak material In Batman Forever.Ultimately Nolan puts humanity to test here as The Joker places two bombs in two ships. One full of civilians and another full of prisoners being evacuated. The Joker wants destruction and turmoil. He simply wants to watch the world burn.The Dark Knight is also bloated and at times cumbersome with its long running time.',\n",
       " 'As I type this, \"Inception\" is sitting at #6 on IMDb\\'s Top 250 and has a firm 9 out of 10 voting average. That is unheard of. Not to say it is not a great film, but I am a little shocked by this. I give it an 8...Long story short, Christopher Nolan is a genius. He has a ton of films on the top 250 list, and still has along career ahead of him. This film was both written and directed by him, and the story and visuals are striking. Some of the story I think is a bit iffy (if you are too critical it might have major holes) but if you are accepting its basic premise, it is a solid concept that has not been explored before.Leonardo DiCaprio plays Cobb, and Leo is always a good lead. The family issues here tread close to where \"Shutter Island\" tread, but this only shows where that other film fell short (as much as I enjoyed both).Joseph Gordon-Levitt plays Arthur, and was for me the most pleasant surprise of the film. I still have a hard time accepting him as a legitimate actor and not just a cheesy, comedic character. But here I was moved. He did his own stunts during what was by far my favorite scene of the film, and although he still looks twenty (he was 29 at the time this film came out) he has lots of potential.Ellen Page was a decent Ariadne (her most adult role yet), and it was nice to see Nolan veterans Cillian Murphy and Michael Caine back for more. And a special shout-out to Pete Postlethwaite (Maurice Fischer) in what was one of his very final roles.Anyway, a must-see if ever there was one in the last few years. 9 out of 10? Maybe. 6th greatest film ever? I don\\'t know... but definitely one of those rare gems of the last decade.',\n",
       " \"This is a world where people can go into your dreams. Some are even able to use your dreams to influence your actions. Dom Cobb (Leonardo DiCaprio) is skilled at stealing secrets by diving into your dreams. It's a dark treacherous world where he has made too many enemies. Now he is offered a chance to come in from the cold. This time his team is tasked to plant an idea into the target's mind, or in one word inception.Christopher Nolan has created something of a Penrose-stairs structure in this movie. It's complicated and may be too convoluted to be reasonable. But that's as much part of its charm. The worlds, the effects, the ideas are all first rate. It is oozing with originality.The actors are also first rate. Nolan can command the best cast to his projects now. There is nobody better than DiCaprio to anchor this movie. Nothing about this movie is done with lesser parts. This is indeed a top movie.\",\n",
       " 'I was able to see \"Parasite\" a few days ago at the Philadelphia Film Festival and many people there loved the film....as did my daughter who saw it with me. As for me, I think the production values were excellent but the ending changed my overall feelings about the movie. Up untl the end, I liked it very, very much....but after the ultra-violent climax, I was left a bit cold. Your experience with the film is really dependent on whether or not you can take the violence and how it impacts you.Instead of talking about the plot and how great or not the film is, I want to focus on the violence. My daughter felt the violence wasn\\'t that extreme and it was needed for the plot. As for me, seeing knives plunged into people at close range and seeing a giant rock smashed ultra-realistically into a person\\'s head just turned my stomach. There could be violence without it being THIS extreme and THIS personal and close-up.So, overall it\\'s still a good film but one I really wish I hadn\\'t seen.']"
      ]
     },
     "execution_count": 6,
     "metadata": {},
     "output_type": "execute_result"
    }
   ],
   "source": [
    "# get review text from the review link\n",
    "review_texts = []\n",
    "for url in movie_review_list:\n",
    "    # get the review_url's soup\n",
    "    response = requests.get(url)\n",
    "    soup = BeautifulSoup(response.text, 'html.parser')\n",
    "    \n",
    "    # find div tags with class text show-more__control\n",
    "    tag = soup.find('div', attrs={'class': 'text show-more__control'})\n",
    "    review_texts.append(tag.getText())\n",
    "\n",
    "review_texts[:5]"
   ]
  },
  {
   "cell_type": "code",
   "execution_count": 7,
   "id": "9850eebd",
   "metadata": {},
   "outputs": [
    {
     "data": {
      "text/plain": [
       "['The Dark Knight', 'The Dark Knight', 'Inception', 'Inception', 'Parasite']"
      ]
     },
     "execution_count": 7,
     "metadata": {},
     "output_type": "execute_result"
    }
   ],
   "source": [
    "# get movie name from the review link\n",
    "movie_titles = []\n",
    "for url in movie_review_list:\n",
    "    # get the review_url's soup\n",
    "    response = requests.get(url)\n",
    "    soup = BeautifulSoup(response.text, 'html.parser')\n",
    "    \n",
    "    # find div tags with class text show-more__control\n",
    "    tag = soup.find('h1')\n",
    "    movie_titles.append(list(tag.children)[1].getText())\n",
    "\n",
    "movie_titles[:5]"
   ]
  },
  {
   "cell_type": "code",
   "execution_count": 8,
   "id": "cad76b0f",
   "metadata": {},
   "outputs": [],
   "source": [
    "# label each review with negative or positive\n",
    "review_sentiment = np.array(['negative', 'positive'] * (len(movie_review_list)//2))"
   ]
  },
  {
   "cell_type": "code",
   "execution_count": 9,
   "id": "37c0b343",
   "metadata": {},
   "outputs": [
    {
     "data": {
      "text/html": [
       "<div>\n",
       "<style scoped>\n",
       "    .dataframe tbody tr th:only-of-type {\n",
       "        vertical-align: middle;\n",
       "    }\n",
       "\n",
       "    .dataframe tbody tr th {\n",
       "        vertical-align: top;\n",
       "    }\n",
       "\n",
       "    .dataframe thead th {\n",
       "        text-align: right;\n",
       "    }\n",
       "</style>\n",
       "<table border=\"1\" class=\"dataframe\">\n",
       "  <thead>\n",
       "    <tr style=\"text-align: right;\">\n",
       "      <th></th>\n",
       "      <th>movie</th>\n",
       "      <th>user_review_permalink</th>\n",
       "      <th>user_review</th>\n",
       "      <th>sentiment</th>\n",
       "    </tr>\n",
       "  </thead>\n",
       "  <tbody>\n",
       "    <tr>\n",
       "      <th>0</th>\n",
       "      <td>The Dark Knight</td>\n",
       "      <td>https://www.imdb.com/review/rw1945777/</td>\n",
       "      <td>The first film in the re-imagining of the seri...</td>\n",
       "      <td>negative</td>\n",
       "    </tr>\n",
       "    <tr>\n",
       "      <th>1</th>\n",
       "      <td>The Dark Knight</td>\n",
       "      <td>https://www.imdb.com/review/rw5443093/</td>\n",
       "      <td>After Batman Begins. Director Christopher Nola...</td>\n",
       "      <td>positive</td>\n",
       "    </tr>\n",
       "    <tr>\n",
       "      <th>2</th>\n",
       "      <td>Inception</td>\n",
       "      <td>https://www.imdb.com/review/rw2365579/</td>\n",
       "      <td>As I type this, \"Inception\" is sitting at #6 o...</td>\n",
       "      <td>negative</td>\n",
       "    </tr>\n",
       "    <tr>\n",
       "      <th>3</th>\n",
       "      <td>Inception</td>\n",
       "      <td>https://www.imdb.com/review/rw2879376/</td>\n",
       "      <td>This is a world where people can go into your ...</td>\n",
       "      <td>positive</td>\n",
       "    </tr>\n",
       "    <tr>\n",
       "      <th>4</th>\n",
       "      <td>Parasite</td>\n",
       "      <td>https://www.imdb.com/review/rw5204791/</td>\n",
       "      <td>I was able to see \"Parasite\" a few days ago at...</td>\n",
       "      <td>negative</td>\n",
       "    </tr>\n",
       "  </tbody>\n",
       "</table>\n",
       "</div>"
      ],
      "text/plain": [
       "             movie                   user_review_permalink  \\\n",
       "0  The Dark Knight  https://www.imdb.com/review/rw1945777/   \n",
       "1  The Dark Knight  https://www.imdb.com/review/rw5443093/   \n",
       "2        Inception  https://www.imdb.com/review/rw2365579/   \n",
       "3        Inception  https://www.imdb.com/review/rw2879376/   \n",
       "4         Parasite  https://www.imdb.com/review/rw5204791/   \n",
       "\n",
       "                                         user_review sentiment  \n",
       "0  The first film in the re-imagining of the seri...  negative  \n",
       "1  After Batman Begins. Director Christopher Nola...  positive  \n",
       "2  As I type this, \"Inception\" is sitting at #6 o...  negative  \n",
       "3  This is a world where people can go into your ...  positive  \n",
       "4  I was able to see \"Parasite\" a few days ago at...  negative  "
      ]
     },
     "execution_count": 9,
     "metadata": {},
     "output_type": "execute_result"
    }
   ],
   "source": [
    "# construct a dataframe\n",
    "df = pd.DataFrame({'movie': movie_titles, 'user_review_permalink': movie_review_list,\n",
    "             'user_review': review_texts, 'sentiment': review_sentiment})\n",
    "\n",
    "# show the dataframe head to show what we return back\n",
    "df.head()"
   ]
  },
  {
   "cell_type": "code",
   "execution_count": 10,
   "id": "1ff8c69f",
   "metadata": {},
   "outputs": [
    {
     "data": {
      "text/html": [
       "<div>\n",
       "<style scoped>\n",
       "    .dataframe tbody tr th:only-of-type {\n",
       "        vertical-align: middle;\n",
       "    }\n",
       "\n",
       "    .dataframe tbody tr th {\n",
       "        vertical-align: top;\n",
       "    }\n",
       "\n",
       "    .dataframe thead th {\n",
       "        text-align: right;\n",
       "    }\n",
       "</style>\n",
       "<table border=\"1\" class=\"dataframe\">\n",
       "  <thead>\n",
       "    <tr style=\"text-align: right;\">\n",
       "      <th></th>\n",
       "      <th>movie</th>\n",
       "      <th>user_review_permalink</th>\n",
       "      <th>user_review</th>\n",
       "      <th>sentiment</th>\n",
       "      <th>user_review_chunks</th>\n",
       "    </tr>\n",
       "  </thead>\n",
       "  <tbody>\n",
       "    <tr>\n",
       "      <th>0</th>\n",
       "      <td>The Dark Knight</td>\n",
       "      <td>https://www.imdb.com/review/rw1945777/</td>\n",
       "      <td>The first film in the re-imagining of the seri...</td>\n",
       "      <td>negative</td>\n",
       "      <td>[[The first film, the re-imagining, the series...</td>\n",
       "    </tr>\n",
       "    <tr>\n",
       "      <th>1</th>\n",
       "      <td>The Dark Knight</td>\n",
       "      <td>https://www.imdb.com/review/rw5443093/</td>\n",
       "      <td>After Batman Begins. Director Christopher Nola...</td>\n",
       "      <td>positive</td>\n",
       "      <td>[[Batman Begins], [Director Christopher Nolan,...</td>\n",
       "    </tr>\n",
       "    <tr>\n",
       "      <th>2</th>\n",
       "      <td>Inception</td>\n",
       "      <td>https://www.imdb.com/review/rw2365579/</td>\n",
       "      <td>As I type this, \"Inception\" is sitting at #6 o...</td>\n",
       "      <td>negative</td>\n",
       "      <td>[[Inception, IMDb, a firm, voting, average], [...</td>\n",
       "    </tr>\n",
       "    <tr>\n",
       "      <th>3</th>\n",
       "      <td>Inception</td>\n",
       "      <td>https://www.imdb.com/review/rw2879376/</td>\n",
       "      <td>This is a world where people can go into your ...</td>\n",
       "      <td>positive</td>\n",
       "      <td>[[a world], [], [Dom Cobb, Leonardo DiCaprio],...</td>\n",
       "    </tr>\n",
       "    <tr>\n",
       "      <th>4</th>\n",
       "      <td>Parasite</td>\n",
       "      <td>https://www.imdb.com/review/rw5204791/</td>\n",
       "      <td>I was able to see \"Parasite\" a few days ago at...</td>\n",
       "      <td>negative</td>\n",
       "      <td>[[Parasite, Philadelphia Film Festival, the fi...</td>\n",
       "    </tr>\n",
       "  </tbody>\n",
       "</table>\n",
       "</div>"
      ],
      "text/plain": [
       "             movie                   user_review_permalink  \\\n",
       "0  The Dark Knight  https://www.imdb.com/review/rw1945777/   \n",
       "1  The Dark Knight  https://www.imdb.com/review/rw5443093/   \n",
       "2        Inception  https://www.imdb.com/review/rw2365579/   \n",
       "3        Inception  https://www.imdb.com/review/rw2879376/   \n",
       "4         Parasite  https://www.imdb.com/review/rw5204791/   \n",
       "\n",
       "                                         user_review sentiment  \\\n",
       "0  The first film in the re-imagining of the seri...  negative   \n",
       "1  After Batman Begins. Director Christopher Nola...  positive   \n",
       "2  As I type this, \"Inception\" is sitting at #6 o...  negative   \n",
       "3  This is a world where people can go into your ...  positive   \n",
       "4  I was able to see \"Parasite\" a few days ago at...  negative   \n",
       "\n",
       "                                  user_review_chunks  \n",
       "0  [[The first film, the re-imagining, the series...  \n",
       "1  [[Batman Begins], [Director Christopher Nolan,...  \n",
       "2  [[Inception, IMDb, a firm, voting, average], [...  \n",
       "3  [[a world], [], [Dom Cobb, Leonardo DiCaprio],...  \n",
       "4  [[Parasite, Philadelphia Film Festival, the fi...  "
      ]
     },
     "execution_count": 10,
     "metadata": {},
     "output_type": "execute_result"
    }
   ],
   "source": [
    "# use an initial grammar regular expression that looks at sequences of proper nouns, nouns following each other and determiner/possessive, adjectives and noun.\n",
    "grammar = r\"\"\"\n",
    "     NP: {<DT|PP\\$>?<JJ>*<NN>}  \n",
    "         {<NNP>+}               \n",
    "         {<NN><NN>}               \n",
    "    \"\"\"\n",
    "user_review_chunks = []\n",
    "for user_review in review_texts:\n",
    "    user_review_ch = []\n",
    "    sentences = nltk.sent_tokenize(user_review)\n",
    "    sentences = [nltk.word_tokenize(sent) for sent in sentences]\n",
    "    sentences = [nltk.pos_tag(sent) for sent in sentences]\n",
    "    for sent in sentences:\n",
    "        nps = []\n",
    "        cp = nltk.RegexpParser(grammar)\n",
    "        tree = cp.parse(sent)\n",
    "           \n",
    "        # loop through the trees produced and pull out only the \n",
    "        # NP subtrees\n",
    "        for subtree in tree.subtrees():\n",
    "            if subtree.label() == 'NP':\n",
    "                t = subtree\n",
    "                t = ' '.join(word for word, tag in t.leaves())\n",
    "                nps.append(t)\n",
    "        user_review_ch.append(nps)\n",
    "        \n",
    "    user_review_chunks.append(user_review_ch)    \n",
    "\n",
    "df['user_review_chunks'] = user_review_chunks\n",
    "df.head()"
   ]
  },
  {
   "cell_type": "code",
   "execution_count": 11,
   "id": "fc5093b0",
   "metadata": {},
   "outputs": [
    {
     "data": {
      "text/html": [
       "<div>\n",
       "<style scoped>\n",
       "    .dataframe tbody tr th:only-of-type {\n",
       "        vertical-align: middle;\n",
       "    }\n",
       "\n",
       "    .dataframe tbody tr th {\n",
       "        vertical-align: top;\n",
       "    }\n",
       "\n",
       "    .dataframe thead th {\n",
       "        text-align: right;\n",
       "    }\n",
       "</style>\n",
       "<table border=\"1\" class=\"dataframe\">\n",
       "  <thead>\n",
       "    <tr style=\"text-align: right;\">\n",
       "      <th></th>\n",
       "      <th>movie</th>\n",
       "      <th>user_review_permalink</th>\n",
       "      <th>user_review</th>\n",
       "      <th>sentiment</th>\n",
       "      <th>user_review_chunks</th>\n",
       "      <th>user_review_chunks2</th>\n",
       "    </tr>\n",
       "  </thead>\n",
       "  <tbody>\n",
       "    <tr>\n",
       "      <th>0</th>\n",
       "      <td>The Dark Knight</td>\n",
       "      <td>https://www.imdb.com/review/rw1945777/</td>\n",
       "      <td>The first film in the re-imagining of the seri...</td>\n",
       "      <td>negative</td>\n",
       "      <td>[[The first film, the re-imagining, the series...</td>\n",
       "      <td>[[first film, re-imagining, series, big hit, s...</td>\n",
       "    </tr>\n",
       "    <tr>\n",
       "      <th>1</th>\n",
       "      <td>The Dark Knight</td>\n",
       "      <td>https://www.imdb.com/review/rw5443093/</td>\n",
       "      <td>After Batman Begins. Director Christopher Nola...</td>\n",
       "      <td>positive</td>\n",
       "      <td>[[Batman Begins], [Director Christopher Nolan,...</td>\n",
       "      <td>[[Batman Begins], [Director Christopher Nolan,...</td>\n",
       "    </tr>\n",
       "    <tr>\n",
       "      <th>2</th>\n",
       "      <td>Inception</td>\n",
       "      <td>https://www.imdb.com/review/rw2365579/</td>\n",
       "      <td>As I type this, \"Inception\" is sitting at #6 o...</td>\n",
       "      <td>negative</td>\n",
       "      <td>[[Inception, IMDb, a firm, voting, average], [...</td>\n",
       "      <td>[[Inception, IMDb, firm, voting average], [], ...</td>\n",
       "    </tr>\n",
       "    <tr>\n",
       "      <th>3</th>\n",
       "      <td>Inception</td>\n",
       "      <td>https://www.imdb.com/review/rw2879376/</td>\n",
       "      <td>This is a world where people can go into your ...</td>\n",
       "      <td>positive</td>\n",
       "      <td>[[a world], [], [Dom Cobb, Leonardo DiCaprio],...</td>\n",
       "      <td>[[world, people, dreams], [dreams, actions], [...</td>\n",
       "    </tr>\n",
       "    <tr>\n",
       "      <th>4</th>\n",
       "      <td>Parasite</td>\n",
       "      <td>https://www.imdb.com/review/rw5204791/</td>\n",
       "      <td>I was able to see \"Parasite\" a few days ago at...</td>\n",
       "      <td>negative</td>\n",
       "      <td>[[Parasite, Philadelphia Film Festival, the fi...</td>\n",
       "      <td>[[Parasite, few days, Philadelphia Film Festiv...</td>\n",
       "    </tr>\n",
       "  </tbody>\n",
       "</table>\n",
       "</div>"
      ],
      "text/plain": [
       "             movie                   user_review_permalink  \\\n",
       "0  The Dark Knight  https://www.imdb.com/review/rw1945777/   \n",
       "1  The Dark Knight  https://www.imdb.com/review/rw5443093/   \n",
       "2        Inception  https://www.imdb.com/review/rw2365579/   \n",
       "3        Inception  https://www.imdb.com/review/rw2879376/   \n",
       "4         Parasite  https://www.imdb.com/review/rw5204791/   \n",
       "\n",
       "                                         user_review sentiment  \\\n",
       "0  The first film in the re-imagining of the seri...  negative   \n",
       "1  After Batman Begins. Director Christopher Nola...  positive   \n",
       "2  As I type this, \"Inception\" is sitting at #6 o...  negative   \n",
       "3  This is a world where people can go into your ...  positive   \n",
       "4  I was able to see \"Parasite\" a few days ago at...  negative   \n",
       "\n",
       "                                  user_review_chunks  \\\n",
       "0  [[The first film, the re-imagining, the series...   \n",
       "1  [[Batman Begins], [Director Christopher Nolan,...   \n",
       "2  [[Inception, IMDb, a firm, voting, average], [...   \n",
       "3  [[a world], [], [Dom Cobb, Leonardo DiCaprio],...   \n",
       "4  [[Parasite, Philadelphia Film Festival, the fi...   \n",
       "\n",
       "                                 user_review_chunks2  \n",
       "0  [[first film, re-imagining, series, big hit, s...  \n",
       "1  [[Batman Begins], [Director Christopher Nolan,...  \n",
       "2  [[Inception, IMDb, firm, voting average], [], ...  \n",
       "3  [[world, people, dreams], [dreams, actions], [...  \n",
       "4  [[Parasite, few days, Philadelphia Film Festiv...  "
      ]
     },
     "execution_count": 11,
     "metadata": {},
     "output_type": "execute_result"
    }
   ],
   "source": [
    "grammar = \"\"\"\n",
    "    NP:    {<DT><WP><VBP>*<RB>*<VBN><IN><NN>}\n",
    "           {<NN|NNS|NNP|NNPS><IN>*<NN|NNS|NNP|NNPS>+}\n",
    "           {<JJ>*<NN|NNS|NNP|NNPS><CC>*<NN|NNS|NNP|NNPS>+}\n",
    "           {<JJ>*<NN|NNS|NNP|NNPS>+}\n",
    "    \"\"\"   \n",
    "\n",
    "user_review_chunks2 = []\n",
    "for user_review in review_texts:\n",
    "    user_review_ch = []\n",
    "    sentences = nltk.sent_tokenize(user_review)\n",
    "    sentences = [nltk.word_tokenize(sent) for sent in sentences]\n",
    "    sentences = [nltk.pos_tag(sent) for sent in sentences]\n",
    "    for sent in sentences:\n",
    "        nps = []\n",
    "        cp = nltk.RegexpParser(grammar)\n",
    "        tree = cp.parse(sent)\n",
    "           \n",
    "        # loop through the trees produced and pull out only the \n",
    "        # NP subtrees\n",
    "        for subtree in tree.subtrees():\n",
    "            if subtree.label() == 'NP':\n",
    "                t = subtree\n",
    "                t = ' '.join(word for word, tag in t.leaves())\n",
    "                nps.append(t)\n",
    "        user_review_ch.append(nps)\n",
    "        \n",
    "    user_review_chunks2.append(user_review_ch)   \n",
    "\n",
    "df['user_review_chunks2'] = user_review_chunks2\n",
    "df.head()"
   ]
  },
  {
   "cell_type": "markdown",
   "id": "f62cdbc0",
   "metadata": {},
   "source": [
    "#### 3.\tOutput all the chunks in a single list for each review, and submit that output for this assignment. Also submit a brief written summary of what you did (describe your selection of genre, your source of reviews, how many you collected, and by what means)."
   ]
  },
  {
   "cell_type": "markdown",
   "id": "4e7d5b8f",
   "metadata": {},
   "source": [
    "#### Summary\n",
    "\n",
    "- Using IMDB as the source pulled 100 movies to gather reviews through a scraping mechanism. \n",
    "- The movie selection was based off of movies in the thriller genre. \n",
    "- For each of the movies gathered a positive and negative review based on the users provided rating value, able to pull 200 total reviews to analyze.\n",
    "- Each of the reviews was then run through a NP-chunker with shallow parsing. First used the regular expression parser and ran each review through twice with differing levels of regular expression requirements"
   ]
  }
 ],
 "metadata": {
  "kernelspec": {
   "display_name": "Python 3 (ipykernel)",
   "language": "python",
   "name": "python3"
  },
  "language_info": {
   "codemirror_mode": {
    "name": "ipython",
    "version": 3
   },
   "file_extension": ".py",
   "mimetype": "text/x-python",
   "name": "python",
   "nbconvert_exporter": "python",
   "pygments_lexer": "ipython3",
   "version": "3.9.7"
  }
 },
 "nbformat": 4,
 "nbformat_minor": 5
}
