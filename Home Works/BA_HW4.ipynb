{
 "cells": [
  {
   "cell_type": "code",
   "execution_count": 1,
   "id": "4898ab07",
   "metadata": {},
   "outputs": [],
   "source": [
    "import nltk, re, pprint\n",
    "from nltk import word_tokenize\n",
    "from textblob import TextBlob"
   ]
  },
  {
   "cell_type": "markdown",
   "id": "6164be36",
   "metadata": {},
   "source": [
    "#### Run one of the part-of-speech (POS) taggers available in Python. \n",
    "\n",
    "a.\tFind the longest sentence you can, longer than 10 words, that the POS tagger tags correctly. Show the input and output."
   ]
  },
  {
   "cell_type": "code",
   "execution_count": 2,
   "id": "d206b855",
   "metadata": {},
   "outputs": [
    {
     "name": "stdout",
     "output_type": "stream",
     "text": [
      "Long sentence:\n",
      "--------------\n",
      "The end of the semester is almost near and I am going to be finishing my time at SMU Speech. \n",
      "\n",
      "POS tags with POS-tagger:\n",
      "-------------------------\n",
      "[('The', 'DT'), ('end', 'NN'), ('of', 'IN'), ('the', 'DT'), ('semester', 'NN'), ('is', 'VBZ'), ('almost', 'RB'), ('near', 'IN'), ('and', 'CC'), ('I', 'PRP'), ('am', 'VBP'), ('going', 'VBG'), ('to', 'TO'), ('be', 'VB'), ('finishing', 'VBG'), ('my', 'PRP$'), ('time', 'NN'), ('at', 'IN'), ('SMU', 'NNP'), ('Speech', 'NNP'), ('.', '.')] \n",
      "\n"
     ]
    }
   ],
   "source": [
    "long_sentence = \"The end of the semester is almost near and I am going to be finishing my time at SMU Speech.\"\n",
    "text = word_tokenize(long_sentence)\n",
    "\n",
    "POS_tags = nltk.pos_tag(text)\n",
    "\n",
    "print('Long sentence:')\n",
    "print('--------------')\n",
    "print(long_sentence,'\\n')\n",
    "\n",
    "print('POS tags with POS-tagger:')\n",
    "print('-------------------------')\n",
    "print(POS_tags,'\\n')"
   ]
  },
  {
   "cell_type": "markdown",
   "id": "af94dac9",
   "metadata": {},
   "source": [
    "b. Find the shortest sentence you can, shorter than 10 words, that the POS tagger fails to tag 100 percent correctly. Show the input and output. Explain your conjecture as to why the tagger might have been less than perfect with this sentence."
   ]
  },
  {
   "cell_type": "code",
   "execution_count": 3,
   "id": "1e254106",
   "metadata": {},
   "outputs": [
    {
     "name": "stdout",
     "output_type": "stream",
     "text": [
      "Short sentence:\n",
      "---------------\n",
      "Dog ate sandwitch. \n",
      "\n",
      "POS tags with POS-tagger:\n",
      "-------------------------\n",
      "[('Dog', 'NNP'), ('ate', 'NN'), ('sandwitch', 'NN'), ('.', '.')] \n",
      "\n"
     ]
    }
   ],
   "source": [
    "short_sentence = \"Dog ate sandwitch.\"\n",
    "text = word_tokenize(short_sentence)\n",
    "\n",
    "POS_tags = nltk.pos_tag(text)\n",
    "\n",
    "print('Short sentence:')\n",
    "print('---------------')\n",
    "print(short_sentence,'\\n')\n",
    "\n",
    "print('POS tags with POS-tagger:')\n",
    "print('-------------------------')\n",
    "print(POS_tags,'\\n')"
   ]
  },
  {
   "cell_type": "markdown",
   "id": "da9af43e",
   "metadata": {},
   "source": [
    "POS tagger incorrectly tags the word \"ate\" as noun (NN). Looks like it is applying default tag,  It can be seen in the case of the short sentence that everything was tagged as NN/NNP"
   ]
  },
  {
   "cell_type": "markdown",
   "id": "d1c2262e",
   "metadata": {},
   "source": [
    "#### Run a different POS tagger in Python. Process the same two sentences from question 1.\n",
    "\n",
    "a.\tDoes it produce the same or different output?"
   ]
  },
  {
   "cell_type": "code",
   "execution_count": 4,
   "id": "430f0d48",
   "metadata": {},
   "outputs": [
    {
     "name": "stdout",
     "output_type": "stream",
     "text": [
      "Short sentence:\n",
      "---------------\n",
      "Dog ate sandwitch. \n",
      "\n",
      "POS tags with TextBlob:\n",
      "-----------------------\n",
      "[('Dog', 'NNP'), ('ate', 'NN'), ('sandwitch', 'NN')] \n",
      "\n"
     ]
    }
   ],
   "source": [
    "blob = TextBlob(short_sentence)\n",
    "POS_tags = blob.tags\n",
    "\n",
    "print('Short sentence:')\n",
    "print('---------------')\n",
    "print(short_sentence,'\\n')\n",
    "\n",
    "print('POS tags with TextBlob:')\n",
    "print('-----------------------')\n",
    "print(POS_tags,'\\n')"
   ]
  },
  {
   "cell_type": "code",
   "execution_count": 5,
   "id": "bdeb2b12",
   "metadata": {},
   "outputs": [
    {
     "name": "stdout",
     "output_type": "stream",
     "text": [
      "Long sentence:\n",
      "--------------\n",
      "The end of the semester is almost near and I am going to be finishing my time at SMU Speech. \n",
      "\n",
      "POS tags with TextBlob:\n",
      "-----------------------\n",
      "[('The', 'DT'), ('end', 'NN'), ('of', 'IN'), ('the', 'DT'), ('semester', 'NN'), ('is', 'VBZ'), ('almost', 'RB'), ('near', 'IN'), ('and', 'CC'), ('I', 'PRP'), ('am', 'VBP'), ('going', 'VBG'), ('to', 'TO'), ('be', 'VB'), ('finishing', 'VBG'), ('my', 'PRP$'), ('time', 'NN'), ('at', 'IN'), ('SMU', 'NNP'), ('Speech', 'NNP')] \n",
      "\n"
     ]
    }
   ],
   "source": [
    "blob = TextBlob(long_sentence)\n",
    "POS_tags = blob.tags\n",
    "\n",
    "print('Long sentence:')\n",
    "print('--------------')\n",
    "print(long_sentence,'\\n')\n",
    "\n",
    "print('POS tags with TextBlob:')\n",
    "print('-----------------------')\n",
    "print(POS_tags,'\\n')"
   ]
  },
  {
   "cell_type": "markdown",
   "id": "6a9fabf0",
   "metadata": {},
   "source": [
    "b. Explain any differences as best you can."
   ]
  },
  {
   "cell_type": "markdown",
   "id": "b4296808",
   "metadata": {},
   "source": [
    "The output between these taggers for the long sentence and short sentence are shown above. The long sentence is 20 words in length and short sentence is 3 words in length. All of the 20 words in the long sentence and 3 words in short sentence are tagged identically by the two taggers. TextBlob tagger ignored the punctuations like period. "
   ]
  },
  {
   "cell_type": "markdown",
   "id": "e471ffdc",
   "metadata": {},
   "source": [
    "#### In a news article from this week’s news, find a random sentence of at least 10 words.\n",
    "\n",
    "a.\tLooking at the Penn tag set, manually POS tag the sentence yourself.\n",
    "\n",
    "\n",
    "Sentence from \"The New york Times\"\n",
    "\n",
    "\"A surge driven by the Delta variant is receding in the United States, but officials and experts say that increased transmission during the coming colder months remains a threat and that steady rates of vaccination are key to keeping the coronavirus at bay.\""
   ]
  },
  {
   "cell_type": "markdown",
   "id": "f61f1549",
   "metadata": {},
   "source": [
    "(A-DT) (surge-NN) (driven-VB) (by-IN) (the-DT) (Delta-NNP) (variant-NNP) (is-VBD) (receding-VBG) (in-IN) (the-DT) (United-NNP) (States-NNP), (but-UH) (officials-NNS) (and-UH) (experts-NNS) (say-VBP) (that-IN) (increased-VBD) (transmission-VBG) (during-IN) (the-DT) (coming-VBZ) (colder-JJ) (months-NNS) (remains-VBZ) (a-DT) (threat-NN) (and-UH) (that-IN) (steady-JJ) (rates-NNS) (of-IN) (vaccination-NN) (are-VBD) (key-JJ) (to-TO) (keeping-VBZ) (the-DT) (coronavirus-NN) (at-IN) (bay-NN)"
   ]
  },
  {
   "cell_type": "markdown",
   "id": "7cc37a9a",
   "metadata": {},
   "source": [
    "b.\tNow run the same sentences through both taggers that you implemented for questions 1 and 2. Did either of the taggers produce the same results as you had created manually?"
   ]
  },
  {
   "cell_type": "code",
   "execution_count": 6,
   "id": "17c19283",
   "metadata": {},
   "outputs": [
    {
     "name": "stdout",
     "output_type": "stream",
     "text": [
      "NT sentence:\n",
      "--------------\n",
      "A surge driven by the Delta variant is receding in the United States, but officials and experts say that increased transmission during the coming colder months remains a threat and that steady rates of vaccination are key to keeping the coronavirus at bay. \n",
      "\n",
      "POS tags with POS-tagger:\n",
      "-------------------------\n",
      "[('A', 'DT'), ('surge', 'NN'), ('driven', 'VBN'), ('by', 'IN'), ('the', 'DT'), ('Delta', 'NNP'), ('variant', 'NN'), ('is', 'VBZ'), ('receding', 'VBG'), ('in', 'IN'), ('the', 'DT'), ('United', 'NNP'), ('States', 'NNPS'), (',', ','), ('but', 'CC'), ('officials', 'NNS'), ('and', 'CC'), ('experts', 'NNS'), ('say', 'VBP'), ('that', 'IN'), ('increased', 'VBD'), ('transmission', 'NN'), ('during', 'IN'), ('the', 'DT'), ('coming', 'VBG'), ('colder', 'JJ'), ('months', 'NNS'), ('remains', 'VBZ'), ('a', 'DT'), ('threat', 'NN'), ('and', 'CC'), ('that', 'IN'), ('steady', 'JJ'), ('rates', 'NNS'), ('of', 'IN'), ('vaccination', 'NN'), ('are', 'VBP'), ('key', 'JJ'), ('to', 'TO'), ('keeping', 'VBG'), ('the', 'DT'), ('coronavirus', 'NN'), ('at', 'IN'), ('bay', 'NN'), ('.', '.')] \n",
      "\n"
     ]
    }
   ],
   "source": [
    "NT_sentence = \"A surge driven by the Delta variant is receding in the United States, but officials and experts say that increased transmission during the coming colder months remains a threat and that steady rates of vaccination are key to keeping the coronavirus at bay.\"\n",
    "text = word_tokenize(NT_sentence)\n",
    "\n",
    "POS_tags = nltk.pos_tag(text)\n",
    "\n",
    "print('NT sentence:')\n",
    "print('--------------')\n",
    "print(NT_sentence,'\\n')\n",
    "\n",
    "print('POS tags with POS-tagger:')\n",
    "print('-------------------------')\n",
    "print(POS_tags,'\\n')"
   ]
  },
  {
   "cell_type": "code",
   "execution_count": 7,
   "id": "7eae996b",
   "metadata": {},
   "outputs": [
    {
     "name": "stdout",
     "output_type": "stream",
     "text": [
      "NT sentence:\n",
      "--------------\n",
      "A surge driven by the Delta variant is receding in the United States, but officials and experts say that increased transmission during the coming colder months remains a threat and that steady rates of vaccination are key to keeping the coronavirus at bay. \n",
      "\n",
      "POS tags with TextBlob:\n",
      "-----------------------\n",
      "[('A', 'DT'), ('surge', 'NN'), ('driven', 'VBN'), ('by', 'IN'), ('the', 'DT'), ('Delta', 'NNP'), ('variant', 'NN'), ('is', 'VBZ'), ('receding', 'VBG'), ('in', 'IN'), ('the', 'DT'), ('United', 'NNP'), ('States', 'NNPS'), ('but', 'CC'), ('officials', 'NNS'), ('and', 'CC'), ('experts', 'NNS'), ('say', 'VBP'), ('that', 'IN'), ('increased', 'VBD'), ('transmission', 'NN'), ('during', 'IN'), ('the', 'DT'), ('coming', 'VBG'), ('colder', 'JJ'), ('months', 'NNS'), ('remains', 'VBZ'), ('a', 'DT'), ('threat', 'NN'), ('and', 'CC'), ('that', 'IN'), ('steady', 'JJ'), ('rates', 'NNS'), ('of', 'IN'), ('vaccination', 'NN'), ('are', 'VBP'), ('key', 'JJ'), ('to', 'TO'), ('keeping', 'VBG'), ('the', 'DT'), ('coronavirus', 'NN'), ('at', 'IN'), ('bay', 'NN')] \n",
      "\n"
     ]
    }
   ],
   "source": [
    "blob = TextBlob(NT_sentence)\n",
    "POS_tags = blob.tags\n",
    "\n",
    "print('NT sentence:')\n",
    "print('--------------')\n",
    "print(NT_sentence,'\\n')\n",
    "\n",
    "print('POS tags with TextBlob:')\n",
    "print('-----------------------')\n",
    "print(POS_tags,'\\n')"
   ]
  },
  {
   "cell_type": "markdown",
   "id": "abee0f63",
   "metadata": {},
   "source": [
    "c.\tExplain any differences between the two taggers and your manual tagging as much as you can."
   ]
  },
  {
   "cell_type": "markdown",
   "id": "341406f6",
   "metadata": {},
   "source": [
    "In matching the manual tagging to the NLTK pos_tag and the TextBlob tagger, we see that the NLTK tagger and TextBlob tagger are almost idential to the manual tagging. The only difference the punctuations missed on TextBlob tagger"
   ]
  },
  {
   "cell_type": "code",
   "execution_count": null,
   "id": "6f16a6ec",
   "metadata": {},
   "outputs": [],
   "source": []
  }
 ],
 "metadata": {
  "kernelspec": {
   "display_name": "Python 3",
   "language": "python",
   "name": "python3"
  },
  "language_info": {
   "codemirror_mode": {
    "name": "ipython",
    "version": 3
   },
   "file_extension": ".py",
   "mimetype": "text/x-python",
   "name": "python",
   "nbconvert_exporter": "python",
   "pygments_lexer": "ipython3",
   "version": "3.8.8"
  }
 },
 "nbformat": 4,
 "nbformat_minor": 5
}
