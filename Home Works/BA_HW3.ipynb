{
 "cells": [
  {
   "cell_type": "code",
   "execution_count": 1,
   "id": "3e8c6c9f",
   "metadata": {},
   "outputs": [
    {
     "name": "stderr",
     "output_type": "stream",
     "text": [
      "[nltk_data] Downloading package wordnet to\n",
      "[nltk_data]     C:\\Users\\balaj\\AppData\\Roaming\\nltk_data...\n",
      "[nltk_data]   Package wordnet is already up-to-date!\n"
     ]
    }
   ],
   "source": [
    "import nltk\n",
    "import numpy as np\n",
    "from nltk.metrics import *\n",
    "from nltk.corpus import stopwords\n",
    "import matplotlib.pyplot as plt\n",
    "from pattern.en import tag\n",
    "nltk.download('wordnet')\n",
    "from difflib import SequenceMatcher"
   ]
  },
  {
   "cell_type": "markdown",
   "id": "02136dd0",
   "metadata": {},
   "source": [
    "#### Compare your given name with your nickname (if you don’t have a nickname, invent one for this assignment) by answering the following questions:\n",
    "- a.\tWhat is the edit distance between your nickname and your given name?\n",
    "- b.\tWhat is the percentage string match between your nickname and your given name?\n",
    "\n",
    "Show your work for both calculations."
   ]
  },
  {
   "cell_type": "markdown",
   "id": "9c4541b2",
   "metadata": {},
   "source": [
    "<B>Edit Disance</B>: Function edit_distance from NLTK used to calculate the edit distance between my given name and my nick name. The edit distance is the number of characters that need to be substituted, inserted, or deleted, to transform my given name into my nick name.\n",
    "\n",
    "<B>SequenceMatcher</B> is used to find the percentage string match between my given name and my nick name. It finds the length of the longest subsequence present in both given name and nick name."
   ]
  },
  {
   "cell_type": "code",
   "execution_count": 2,
   "id": "76166680",
   "metadata": {},
   "outputs": [
    {
     "name": "stdout",
     "output_type": "stream",
     "text": [
      "The edit distance from Balaji (given name) to Balu (nick name) is 3\n",
      "\n"
     ]
    }
   ],
   "source": [
    "givenName = 'Balaji'\n",
    "nickName = 'Balu'\n",
    "\n",
    "# edit distance\n",
    "editDist = edit_distance(givenName,nickName)\n",
    "\n",
    "print ('The edit distance from {} (given name) to {} (nick name) is {}\\n'.\n",
    "       format(givenName,nickName,editDist))\n"
   ]
  },
  {
   "cell_type": "code",
   "execution_count": 3,
   "id": "8406a387",
   "metadata": {},
   "outputs": [
    {
     "name": "stdout",
     "output_type": "stream",
     "text": [
      "My given name \"Balaji\" and nickname \"Balu\" are 60.00% similar\n",
      "\n"
     ]
    }
   ],
   "source": [
    "# percentage string match\n",
    "pctDist = (SequenceMatcher(None, givenName, nickName).ratio())*100\n",
    "\n",
    "print ('My given name \"{}\" and nickname \"{}\" are {:2.2f}% similar\\n'.\n",
    "      format(givenName, nickName,pctDist))"
   ]
  },
  {
   "cell_type": "markdown",
   "id": "016b2063",
   "metadata": {},
   "source": [
    "#### Find a friend (or family member or classmate) who you know has read a certain book. Without your friend knowing, copy the first two sentences of that book. Now rewrite the words from those sentences, excluding stop words. Now tell your friend to guess which book the words are from by reading them just that list of words. Did you friend correctly guess the book on the first try? What did he or she guess? Explain why you think you friend either was or was not able to guess the book from hearing the list of words. "
   ]
  },
  {
   "cell_type": "code",
   "execution_count": 22,
   "id": "e2381d4d",
   "metadata": {},
   "outputs": [
    {
     "name": "stdout",
     "output_type": "stream",
     "text": [
      "Original Sentense:\n",
      " Mr. and Mrs. Dursley, of number four, Privet Drive, were proud to say that they were perfectly normal, thank you very much. They were the last people you'd expect to be involved in anything strange or mysterious, because they just didn't hold with such nonsense.\n",
      "\n",
      "Sentense after removing the stop words:\n",
      " ['Mr.', 'Mrs.', 'Dursley', ',', 'number', 'four', ',', 'Privet', 'Drive', ',', 'proud', 'say', 'perfectly', 'normal', ',', 'thank', 'much', '.', 'They', 'last', 'people', \"'d\", 'expect', 'involved', 'anything', 'strange', 'mysterious', ',', \"n't\", 'hold', 'nonsense', '.']\n"
     ]
    }
   ],
   "source": [
    "# First two lines from \"Harry Potter and the Sorcerer's Stone\"\n",
    "\n",
    "twoSentences = \"Mr. and Mrs. Dursley, of number four, Privet Drive, were proud to say that they were perfectly normal, \\\n",
    "thank you very much. They were the last people you'd expect to be involved in anything strange or mysterious, \\\n",
    "because they just didn't hold with such nonsense.\"\n",
    "\n",
    "# stop words in English\n",
    "stopWords = set(stopwords.words('english'))   \n",
    "# tokens \n",
    "wordTokens = nltk.word_tokenize(twoSentences)   \n",
    "cleanSentence = [w for w in wordTokens if not w in stopWords] \n",
    "    \n",
    "print(\"Original Sentense:\\n\", twoSentences) \n",
    "print(\"\\nSentense after removing the stop words:\\n\", cleanSentence)"
   ]
  },
  {
   "cell_type": "markdown",
   "id": "612e1dc1",
   "metadata": {},
   "source": [
    "My daughter loves Harry Potter so she easily recognized the opening lines from \"Harry Potter and the Sorcerer's Stone\". Removing the stop words did not remove the words that uniquely identify this text, the main idea of the sentences remains intact"
   ]
  },
  {
   "cell_type": "markdown",
   "id": "a835cdee",
   "metadata": {},
   "source": [
    "#### Run one of the stemmers available in Python. Run the same two sentences from question 2 above through the stemmer and show the results. How many of the outputted stems are valid morphological roots of the corresponding words? Express this answer as a percentage."
   ]
  },
  {
   "cell_type": "code",
   "execution_count": 23,
   "id": "958198ce",
   "metadata": {},
   "outputs": [
    {
     "name": "stdout",
     "output_type": "stream",
     "text": [
      "            Stemmer Table\n",
      "------------------------------------------\n",
      " Tokens        WordNet       Porter       \n",
      "------------------------------------------\n",
      " Mr.           Mr.           mr.          \n",
      " and           and           and          \n",
      " Mrs.          Mrs.          mrs.         \n",
      " Dursley       Dursley       dursley      \n",
      " ,             ,             ,            \n",
      " of            of            of           \n",
      " number        number        number       \n",
      " four          four          four         \n",
      " ,             ,             ,            \n",
      " Privet        Privet        privet       \n",
      " Drive         Drive         drive        \n",
      " ,             ,             ,            \n",
      " were          were          were         \n",
      " proud         proud         proud        \n",
      " to            to            to           \n",
      " say           say           say          \n",
      " that          that          that         \n",
      " they          they          they         \n",
      " were          were          were         \n",
      " perfectly     perfectly     perfectli    \n",
      " normal        normal        normal       \n",
      " ,             ,             ,            \n",
      " thank         thank         thank        \n",
      " you           you           you          \n",
      " very          very          veri         \n",
      " much          much          much         \n",
      " .             .             .            \n",
      " They          They          they         \n",
      " were          were          were         \n",
      " the           the           the          \n",
      " last          last          last         \n",
      " people        people        peopl        \n",
      " you           you           you          \n",
      " 'd            'd            'd           \n"
     ]
    }
   ],
   "source": [
    "ps = nltk.stem.PorterStemmer()\n",
    "ws = nltk.wordnet.WordNetLemmatizer()\n",
    "\n",
    "psWords = []\n",
    "wsWords = []\n",
    "#\n",
    "# Create a list of stemmed words\n",
    "#\n",
    "for w in wordTokens:\n",
    "    psWords.append(ps.stem(w))\n",
    "    wsWords.append(ws.lemmatize(w))\n",
    "#\n",
    "# Visually examine each stemmer to see how many are not morphological roots\n",
    "#\n",
    "print('            Stemmer Table')\n",
    "print('------------------------------------------')\n",
    "print(' {:13} {:13} {:13}'.format('Tokens','WordNet','Porter'))\n",
    "print('------------------------------------------')\n",
    "for i in range(len(rsWords)):\n",
    "    print(' {:13} {:13} {:13}'.format(wordTokens[i],wsWords[i], psWords[i]))"
   ]
  },
  {
   "cell_type": "markdown",
   "id": "d3fe327a",
   "metadata": {},
   "source": [
    "From the table above we can see that there are no issues with any word with WordNet and about 3 words don't look like they are stemmed as well as they could be with Porter stemmer\n",
    "\n",
    "The bar chart below gives a visual represneation of how the Wordnet and Porter stemmers performed."
   ]
  },
  {
   "cell_type": "code",
   "execution_count": 25,
   "id": "d7fb832d",
   "metadata": {},
   "outputs": [
    {
     "data": {
      "image/png": "[encoded data removed]",
      "text/plain": [
       "<Figure size 864x576 with 1 Axes>"
      ]
     },
     "metadata": {
      "needs_background": "light"
     },
     "output_type": "display_data"
    }
   ],
   "source": [
    "wordWrong = 0\n",
    "portWrong = 3\n",
    "\n",
    "wordPerct = round(1-(wordWrong/len(wsWords)),2)*100\n",
    "portPerct = round(1-(portWrong/len(psWords)),2)*100\n",
    "\n",
    "stemPercList = [wordPerct, portPerct]\n",
    "stemmers = ['WordNet', 'Porter']\n",
    "colors =['r','b']\n",
    "plt.figure(figsize=(12,8))\n",
    "plt.bar(stemmers, height=stemPercList, color=colors)\n",
    "plt.title('Stemmer Performance',fontsize=18)\n",
    "plt.xlabel('Stemmer Name', fontsize=13)\n",
    "plt.ylabel('Percent', fontsize=13)\n",
    "for i, v in enumerate(stemPercList):\n",
    "    plt.text(i-.1 , v+.5, str(v), color='black')\n",
    "plt.show()"
   ]
  },
  {
   "cell_type": "code",
   "execution_count": null,
   "id": "2f0ba033",
   "metadata": {},
   "outputs": [],
   "source": []
  }
 ],
 "metadata": {
  "kernelspec": {
   "display_name": "Python 3",
   "language": "python",
   "name": "python3"
  },
  "language_info": {
   "codemirror_mode": {
    "name": "ipython",
    "version": 3
   },
   "file_extension": ".py",
   "mimetype": "text/x-python",
   "name": "python",
   "nbconvert_exporter": "python",
   "pygments_lexer": "ipython3",
   "version": "3.8.8"
  }
 },
 "nbformat": 4,
 "nbformat_minor": 5
}
